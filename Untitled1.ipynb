{
 "cells": [
  {
   "cell_type": "code",
   "execution_count": 23,
   "metadata": {},
   "outputs": [
    {
     "name": "stdout",
     "output_type": "stream",
     "text": [
      "{'jaipur': 317.15, 'bangalore': 305.47, 'tirupati': 315.15, 'mumbai': 306.15, 'chennai': 306.63, 'chittoor': 315.15, 'nellore': 315.971, 'guntur': 310.15, 'pune': 306.671, 'kolkata': 309.15}\n",
      "jaipur 317.15\n"
     ]
    }
   ],
   "source": [
    "import requests as rs\n",
    "import json\n",
    "city=[\"jaipur\",\"bangalore\",\"tirupati\",\"mumbai\",\"chennai\",\"chittoor\",\"nellore\",\"guntur\",\"pune\",\"kolkata\"]\n",
    "list1={}\n",
    "for i in city:\n",
    "    gh=rs.get(\"http://api.openweathermap.org/data/2.5/weather?q=\"+i+\"&APPID=9c28a85dca23d12779f571c379576d00\").content\n",
    "    data=json.loads(gh)\n",
    "    x=data[\"main\"][\"temp\"]\n",
    "    list1[i]=x\n",
    "print(list1)\n",
    "city=''\n",
    "temp=0\n",
    "for i,j  in list1.items():\n",
    "         if temp<j:\n",
    "            temp=j\n",
    "            city=i\n",
    "print(city,temp)"
   ]
  },
  {
   "cell_type": "code",
   "execution_count": 4,
   "metadata": {},
   "outputs": [
    {
     "data": {
      "text/plain": [
       "['jaipur',\n",
       " 'bangalore',\n",
       " 'tirupati',\n",
       " 'mumbai',\n",
       " 'chennai',\n",
       " 'chittoor',\n",
       " 'nellore',\n",
       " 'guntur',\n",
       " 'pune',\n",
       " 'kolkata']"
      ]
     },
     "execution_count": 4,
     "metadata": {},
     "output_type": "execute_result"
    }
   ],
   "source": [
    "city=[\"jaipur\",\"bangalore\",\"tirupati\",\"mumbai\",\"chennai\",\"chittoor\",\"nellore\",\"guntur\",\"pune\",\"kolkata\"]\n",
    "city"
   ]
  },
  {
   "cell_type": "code",
   "execution_count": 5,
   "metadata": {},
   "outputs": [
    {
     "name": "stdout",
     "output_type": "stream",
     "text": [
      "<class 'str'>\n",
      "<class 'str'>\n",
      "<class 'str'>\n",
      "<class 'str'>\n",
      "<class 'str'>\n",
      "<class 'str'>\n",
      "<class 'str'>\n",
      "<class 'str'>\n",
      "<class 'str'>\n",
      "<class 'str'>\n"
     ]
    }
   ],
   "source": [
    "import requests as rs\n",
    "import json\n",
    "city=[\"jaipur\",\"bangalore\",\"tirupati\",\"mumbai\",\"chennai\",\"chittoor\",\"nellore\",\"guntur\",\"pune\",\"kolkata\"]\n",
    "\n",
    "temp=[]\n",
    "cities=[]\n",
    "weather=[]\n",
    "k=0\n",
    "for i in city:\n",
    "        z=rs.get(\"http://api.openweathermap.org/data/2.5/weather?q=\"+i+\"&APPID=9c28a85dca23d12779f571c379576d00\".format(i))\n",
    "        dic=json.loads(z.content.decode())\n",
    "        print(type(z.content.decode()))\n",
    "        if dic['cod']==200:\n",
    "            k+1\n",
    "#             print(k)\n",
    "#             print('city name:',dic['name'])\n",
    "#             print('temperature:',dic['main']['temp'])\n",
    "#             print('wether:',dic['wether'][0]['main'])\n",
    "            temp.append(dic['main']['temp'])\n",
    "            cities.append(dic['name'])\n",
    "            weather.append(dic['weather'][0]['main'])\n",
    "        else:\n",
    "            print(i,'spelling is incorrect')"
   ]
  },
  {
   "cell_type": "code",
   "execution_count": 6,
   "metadata": {},
   "outputs": [
    {
     "data": {
      "text/plain": [
       "['jaipur',\n",
       " 'bangalore',\n",
       " 'tirupati',\n",
       " 'mumbai',\n",
       " 'chennai',\n",
       " 'chittoor',\n",
       " 'nellore',\n",
       " 'guntur',\n",
       " 'pune',\n",
       " 'kolkata']"
      ]
     },
     "execution_count": 6,
     "metadata": {},
     "output_type": "execute_result"
    }
   ],
   "source": [
    "city\n"
   ]
  },
  {
   "cell_type": "code",
   "execution_count": 7,
   "metadata": {},
   "outputs": [
    {
     "data": {
      "text/html": [
       "<div>\n",
       "<style scoped>\n",
       "    .dataframe tbody tr th:only-of-type {\n",
       "        vertical-align: middle;\n",
       "    }\n",
       "\n",
       "    .dataframe tbody tr th {\n",
       "        vertical-align: top;\n",
       "    }\n",
       "\n",
       "    .dataframe thead th {\n",
       "        text-align: right;\n",
       "    }\n",
       "</style>\n",
       "<table border=\"1\" class=\"dataframe\">\n",
       "  <thead>\n",
       "    <tr style=\"text-align: right;\">\n",
       "      <th></th>\n",
       "      <th>temperature</th>\n",
       "      <th>city</th>\n",
       "      <th>wether</th>\n",
       "    </tr>\n",
       "  </thead>\n",
       "  <tbody>\n",
       "    <tr>\n",
       "      <th>0</th>\n",
       "      <td>311.150</td>\n",
       "      <td>jaipur</td>\n",
       "      <td>Haze</td>\n",
       "    </tr>\n",
       "    <tr>\n",
       "      <th>1</th>\n",
       "      <td>301.850</td>\n",
       "      <td>bangalore</td>\n",
       "      <td>Clouds</td>\n",
       "    </tr>\n",
       "    <tr>\n",
       "      <th>2</th>\n",
       "      <td>306.150</td>\n",
       "      <td>tirupati</td>\n",
       "      <td>Clouds</td>\n",
       "    </tr>\n",
       "    <tr>\n",
       "      <th>3</th>\n",
       "      <td>304.650</td>\n",
       "      <td>mumbai</td>\n",
       "      <td>Smoke</td>\n",
       "    </tr>\n",
       "    <tr>\n",
       "      <th>4</th>\n",
       "      <td>307.150</td>\n",
       "      <td>chennai</td>\n",
       "      <td>Clouds</td>\n",
       "    </tr>\n",
       "    <tr>\n",
       "      <th>5</th>\n",
       "      <td>306.150</td>\n",
       "      <td>chittoor</td>\n",
       "      <td>Clouds</td>\n",
       "    </tr>\n",
       "    <tr>\n",
       "      <th>6</th>\n",
       "      <td>310.929</td>\n",
       "      <td>nellore</td>\n",
       "      <td>Clouds</td>\n",
       "    </tr>\n",
       "    <tr>\n",
       "      <th>7</th>\n",
       "      <td>303.150</td>\n",
       "      <td>guntur</td>\n",
       "      <td>Clouds</td>\n",
       "    </tr>\n",
       "    <tr>\n",
       "      <th>8</th>\n",
       "      <td>301.129</td>\n",
       "      <td>pune</td>\n",
       "      <td>Clear</td>\n",
       "    </tr>\n",
       "    <tr>\n",
       "      <th>9</th>\n",
       "      <td>306.150</td>\n",
       "      <td>kolkata</td>\n",
       "      <td>Haze</td>\n",
       "    </tr>\n",
       "  </tbody>\n",
       "</table>\n",
       "</div>"
      ],
      "text/plain": [
       "   temperature       city  wether\n",
       "0      311.150     jaipur    Haze\n",
       "1      301.850  bangalore  Clouds\n",
       "2      306.150   tirupati  Clouds\n",
       "3      304.650     mumbai   Smoke\n",
       "4      307.150    chennai  Clouds\n",
       "5      306.150   chittoor  Clouds\n",
       "6      310.929    nellore  Clouds\n",
       "7      303.150     guntur  Clouds\n",
       "8      301.129       pune   Clear\n",
       "9      306.150    kolkata    Haze"
      ]
     },
     "execution_count": 7,
     "metadata": {},
     "output_type": "execute_result"
    }
   ],
   "source": [
    "import pandas as pd\n",
    "dt=pd.DataFrame({\"temperature\":temp,\"city\":city,\"wether\":weather})\n",
    "dt"
   ]
  },
  {
   "cell_type": "code",
   "execution_count": 10,
   "metadata": {},
   "outputs": [
    {
     "name": "stdout",
     "output_type": "stream",
     "text": [
      "['Haze' 'Clouds' 'Smoke' 'Clear']\n"
     ]
    },
    {
     "data": {
      "text/plain": [
       "array(['jaipur', 'bangalore', 'tirupati', 'mumbai', 'chennai', 'chittoor',\n",
       "       'nellore', 'guntur', 'pune', 'kolkata'], dtype=object)"
      ]
     },
     "execution_count": 10,
     "metadata": {},
     "output_type": "execute_result"
    }
   ],
   "source": [
    "print(dt.wether.unique())\n",
    "dt.city.unique()"
   ]
  },
  {
   "cell_type": "code",
   "execution_count": 27,
   "metadata": {},
   "outputs": [],
   "source": [
    "wea=[]\n",
    "for w in dt.wether.unique():\n",
    "    wea.append(dt[dt.wether==w])"
   ]
  },
  {
   "cell_type": "code",
   "execution_count": 25,
   "metadata": {},
   "outputs": [
    {
     "data": {
      "text/plain": [
       "[   temperature     city wether\n",
       " 0       316.15   jaipur   Haze\n",
       " 9       308.15  kolkata   Haze,    temperature       city  wether\n",
       " 1      306.150  bangalore  Clouds\n",
       " 3      305.650     mumbai  Clouds\n",
       " 4      306.180    chennai  Clouds\n",
       " 6      315.624    nellore  Clouds\n",
       " 7      313.150     guntur  Clouds,    temperature      city        wether\n",
       " 2       311.15  tirupati  Thunderstorm\n",
       " 5       311.15  chittoor  Thunderstorm,    temperature  city wether\n",
       " 8      305.524  pune  Clear]"
      ]
     },
     "execution_count": 25,
     "metadata": {},
     "output_type": "execute_result"
    }
   ],
   "source": [
    "wea"
   ]
  },
  {
   "cell_type": "code",
   "execution_count": 11,
   "metadata": {},
   "outputs": [],
   "source": [
    "import matplotlib.pyplot as plt\n",
    "import numpy as np"
   ]
  },
  {
   "cell_type": "code",
   "execution_count": 44,
   "metadata": {},
   "outputs": [
    {
     "name": "stdout",
     "output_type": "stream",
     "text": [
      "[ 0  1  2  3  4  5  6  7  8  9 10 11 12 13 14 15 16 17 18 19 20 21 22 23\n",
      " 24 25 26 27 28 29 30 31 32 33 34 35 36 37 38 39 40 41 42 43 44 45 46 47\n",
      " 48 49 50 51 52 53 54 55 56 57 58 59 60 61 62 63 64 65 66 67 68 69 70 71\n",
      " 72 73 74 75 76 77 78 79 80 81 82 83 84 85 86 87 88 89 90 91 92 93 94 95\n",
      " 96 97 98 99]\n"
     ]
    }
   ],
   "source": [
    "numbers=np.arange(0,100)\n",
    "print(numbers)"
   ]
  },
  {
   "cell_type": "code",
   "execution_count": 39,
   "metadata": {},
   "outputs": [
    {
     "name": "stdout",
     "output_type": "stream",
     "text": [
      "[  0   4   8  12  16  20  24  28  32  36  40  44  48  52  56  60  64  68\n",
      "  72  76  80  84  88  92  96 100 104 108 112 116 120 124 128 132 136 140\n",
      " 144 148 152 156 160 164 168 172 176 180 184 188 192 196 200 204 208 212\n",
      " 216 220 224 228 232 236 240 244 248 252 256 260 264 268 272 276 280 284\n",
      " 288 292 296 300 304 308 312 316 320 324 328 332 336 340 344 348 352 356\n",
      " 360 364 368 372 376 380 384 388 392 396]\n"
     ]
    }
   ],
   "source": [
    "numbers2=np.arange(0,100)*4\n",
    "print(numbers2)"
   ]
  },
  {
   "cell_type": "code",
   "execution_count": 48,
   "metadata": {},
   "outputs": [
    {
     "data": {
      "text/plain": [
       "<matplotlib.collections.PathCollection at 0x256d16335f8>"
      ]
     },
     "execution_count": 48,
     "metadata": {},
     "output_type": "execute_result"
    },
    {
     "data": {
      "image/png": "[encoded data removed]",
      "text/plain": [
       "<Figure size 432x288 with 1 Axes>"
      ]
     },
     "metadata": {
      "needs_background": "light"
     },
     "output_type": "display_data"
    }
   ],
   "source": [
    "plt.plot(numbers,numbers2)\n",
    "\n",
    "#plt.scatter(numbers[:20],numbers2[:20])\n"
   ]
  },
  {
   "cell_type": "code",
   "execution_count": 54,
   "metadata": {},
   "outputs": [
    {
     "name": "stdout",
     "output_type": "stream",
     "text": [
      "<matplotlib.collections.PathCollection object at 0x00000256D174BE48>\n",
      "\n",
      "[<matplotlib.lines.Line2D object at 0x00000256D139B518>]\n"
     ]
    },
    {
     "data": {
      "image/png": "[encoded data removed]",
      "text/plain": [
       "<Figure size 432x288 with 1 Axes>"
      ]
     },
     "metadata": {
      "needs_background": "light"
     },
     "output_type": "display_data"
    }
   ],
   "source": [
    "x=[1,2,3,4]\n",
    "y=[1,2,3,4]\n",
    "print(plt.scatter(x,y))\n",
    "print()\n",
    "print(plt.plot(x,y))"
   ]
  },
  {
   "cell_type": "code",
   "execution_count": 60,
   "metadata": {},
   "outputs": [
    {
     "data": {
      "text/plain": [
       "<matplotlib.collections.PathCollection at 0x256d197ae48>"
      ]
     },
     "execution_count": 60,
     "metadata": {},
     "output_type": "execute_result"
    },
    {
     "data": {
      "image/png": "[encoded data removed]",
      "text/plain": [
       "<Figure size 432x288 with 1 Axes>"
      ]
     },
     "metadata": {
      "needs_background": "light"
     },
     "output_type": "display_data"
    }
   ],
   "source": [
    "#sine graph\n",
    "\n",
    "numbers=np.arange(0,10,0.2)\n",
    "numbers2=np.sin(numbers) #0.2 space will take\n",
    "plt.plot(numbers,numbers2)\n",
    "plt.scatter(numbers,numbers2)#if we use scatter we can identify points easily"
   ]
  },
  {
   "cell_type": "code",
   "execution_count": 66,
   "metadata": {},
   "outputs": [],
   "source": [
    "#unit step function----it will display step by steps\n",
    "# if x<0--it will lie on 0 and x>0 --it will lie on 1\n",
    "\n",
    "def uni_step(x):\n",
    "    if x<0:\n",
    "        return 0\n",
    "    \n",
    "    else:\n",
    "        return 1"
   ]
  },
  {
   "cell_type": "code",
   "execution_count": 67,
   "metadata": {},
   "outputs": [],
   "source": [
    "x=np.arange(-10,10) #we took range -10 to 10"
   ]
  },
  {
   "cell_type": "code",
   "execution_count": 68,
   "metadata": {},
   "outputs": [],
   "source": [
    "y=list(map(uni_step,x))"
   ]
  },
  {
   "cell_type": "code",
   "execution_count": 70,
   "metadata": {},
   "outputs": [
    {
     "data": {
      "text/plain": [
       "[0, 0, 0, 0, 0, 0, 0, 0, 0, 0, 1, 1, 1, 1, 1, 1, 1, 1, 1, 1]"
      ]
     },
     "execution_count": 70,
     "metadata": {},
     "output_type": "execute_result"
    }
   ],
   "source": [
    "y"
   ]
  },
  {
   "cell_type": "code",
   "execution_count": 71,
   "metadata": {},
   "outputs": [
    {
     "data": {
      "text/plain": [
       "[<matplotlib.lines.Line2D at 0x256d2a01400>]"
      ]
     },
     "execution_count": 71,
     "metadata": {},
     "output_type": "execute_result"
    },
    {
     "data": {
      "image/png": "[encoded data removed]",
      "text/plain": [
       "<Figure size 432x288 with 1 Axes>"
      ]
     },
     "metadata": {
      "needs_background": "light"
     },
     "output_type": "display_data"
    }
   ],
   "source": [
    "plt.plot(y)"
   ]
  },
  {
   "cell_type": "code",
   "execution_count": 72,
   "metadata": {},
   "outputs": [],
   "source": [
    "#impulse???"
   ]
  },
  {
   "cell_type": "code",
   "execution_count": 76,
   "metadata": {},
   "outputs": [
    {
     "data": {
      "text/plain": [
       "array([97, 21, 42, 11,  6, 27, 35, 78, 52, 66, 28, 32, 99, 47, 74, 87, 29,\n",
       "       27, 90, 53, 31, 46, 38, 70, 69, 61, 18, 95, 93, 32, 10, 37, 29, 80,\n",
       "       77, 70, 83, 65, 81, 21, 29, 14, 92, 80, 12, 98, 11, 16, 21, 45, 16,\n",
       "       34, 36,  1, 81, 57, 75, 41, 27,  2, 32, 21,  3, 76, 12, 67,  3, 19,\n",
       "       11, 12, 53, 61, 77, 79, 76, 26, 43, 79, 57, 10, 72, 45, 69, 39, 10,\n",
       "       29, 75, 84, 26, 44, 66, 48,  3, 15, 57, 92, 24, 86, 63,  3])"
      ]
     },
     "execution_count": 76,
     "metadata": {},
     "output_type": "execute_result"
    }
   ],
   "source": [
    "y=np.random.randint(1,100,100) #100 random points\n",
    "y"
   ]
  },
  {
   "cell_type": "code",
   "execution_count": 79,
   "metadata": {},
   "outputs": [
    {
     "data": {
      "text/plain": [
       "range(1, 101)"
      ]
     },
     "execution_count": 79,
     "metadata": {},
     "output_type": "execute_result"
    }
   ],
   "source": [
    "x=range(1,101)\n",
    "x"
   ]
  },
  {
   "cell_type": "code",
   "execution_count": 80,
   "metadata": {},
   "outputs": [
    {
     "data": {
      "text/plain": [
       "<matplotlib.collections.PathCollection at 0x256d193bc50>"
      ]
     },
     "execution_count": 80,
     "metadata": {},
     "output_type": "execute_result"
    },
    {
     "data": {
      "image/png": "[encoded data removed]",
      "text/plain": [
       "<Figure size 432x288 with 1 Axes>"
      ]
     },
     "metadata": {
      "needs_background": "light"
     },
     "output_type": "display_data"
    }
   ],
   "source": [
    "plt.scatter(x,y)   #points a perticular point"
   ]
  },
  {
   "cell_type": "code",
   "execution_count": 15,
   "metadata": {},
   "outputs": [
    {
     "data": {
      "text/plain": [
       "<matplotlib.collections.PathCollection at 0x21033cf7358>"
      ]
     },
     "execution_count": 15,
     "metadata": {},
     "output_type": "execute_result"
    },
    {
     "data": {
      "image/png": "[encoded data removed]",
      "text/plain": [
       "<Figure size 432x288 with 1 Axes>"
      ]
     },
     "metadata": {
      "needs_background": "light"
     },
     "output_type": "display_data"
    }
   ],
   "source": [
    "plt.scatter(x,y,marker='*',c=\"red\")   #points a perticular point"
   ]
  },
  {
   "cell_type": "code",
   "execution_count": 83,
   "metadata": {},
   "outputs": [
    {
     "data": {
      "text/plain": [
       "<matplotlib.collections.PathCollection at 0x256d12fc828>"
      ]
     },
     "execution_count": 83,
     "metadata": {},
     "output_type": "execute_result"
    },
    {
     "data": {
      "image/png": "[encoded data removed]",
      "text/plain": [
       "<Figure size 432x288 with 1 Axes>"
      ]
     },
     "metadata": {
      "needs_background": "light"
     },
     "output_type": "display_data"
    }
   ],
   "source": [
    "x=np.arange(1,10)\n",
    "y=np.arange(1,10)\n",
    "plt.scatter(x,y,marker=\"o\",color=\"black\")"
   ]
  },
  {
   "cell_type": "code",
   "execution_count": 84,
   "metadata": {},
   "outputs": [
    {
     "data": {
      "text/plain": [
       "<matplotlib.collections.PathCollection at 0x256d2b9a160>"
      ]
     },
     "execution_count": 84,
     "metadata": {},
     "output_type": "execute_result"
    },
    {
     "data": {
      "image/png": "[encoded data removed]",
      "text/plain": [
       "<Figure size 432x288 with 1 Axes>"
      ]
     },
     "metadata": {
      "needs_background": "light"
     },
     "output_type": "display_data"
    }
   ],
   "source": [
    "plt.scatter(x,y,marker='+',c=\"red\")   #points a perticular point"
   ]
  },
  {
   "cell_type": "code",
   "execution_count": 85,
   "metadata": {},
   "outputs": [
    {
     "data": {
      "text/plain": [
       "array([ 1,  2,  3,  4,  5,  6,  7,  8,  9, 10, 11, 12, 13, 14, 15, 16, 17,\n",
       "       18, 19, 20, 21, 22, 23, 24, 25, 26, 27, 28, 29, 30, 31, 32, 33, 34,\n",
       "       35, 36, 37, 38, 39, 40, 41, 42, 43, 44, 45, 46, 47, 48, 49, 50, 51,\n",
       "       52, 53, 54, 55, 56, 57, 58, 59, 60, 61, 62, 63, 64, 65, 66, 67, 68,\n",
       "       69, 70, 71, 72, 73, 74, 75, 76, 77, 78, 79, 80, 81, 82, 83, 84, 85,\n",
       "       86, 87, 88, 89, 90, 91, 92, 93, 94, 95, 96, 97, 98, 99])"
      ]
     },
     "execution_count": 85,
     "metadata": {},
     "output_type": "execute_result"
    }
   ],
   "source": [
    "#bar plot\n",
    "x=np.arange(1,100)\n",
    "x"
   ]
  },
  {
   "cell_type": "code",
   "execution_count": 86,
   "metadata": {},
   "outputs": [
    {
     "data": {
      "text/plain": [
       "array([ 0.84147098,  0.90929743,  0.14112001, -0.7568025 , -0.95892427,\n",
       "       -0.2794155 ,  0.6569866 ,  0.98935825,  0.41211849, -0.54402111,\n",
       "       -0.99999021, -0.53657292,  0.42016704,  0.99060736,  0.65028784,\n",
       "       -0.28790332, -0.96139749, -0.75098725,  0.14987721,  0.91294525,\n",
       "        0.83665564, -0.00885131, -0.8462204 , -0.90557836, -0.13235175,\n",
       "        0.76255845,  0.95637593,  0.27090579, -0.66363388, -0.98803162,\n",
       "       -0.40403765,  0.55142668,  0.99991186,  0.52908269, -0.42818267,\n",
       "       -0.99177885, -0.64353813,  0.29636858,  0.96379539,  0.74511316,\n",
       "       -0.15862267, -0.91652155, -0.83177474,  0.01770193,  0.85090352,\n",
       "        0.90178835,  0.12357312, -0.76825466, -0.95375265, -0.26237485,\n",
       "        0.67022918,  0.98662759,  0.39592515, -0.55878905, -0.99975517,\n",
       "       -0.521551  ,  0.43616476,  0.99287265,  0.63673801, -0.30481062,\n",
       "       -0.96611777, -0.7391807 ,  0.1673557 ,  0.92002604,  0.82682868,\n",
       "       -0.02655115, -0.85551998, -0.89792768, -0.11478481,  0.77389068,\n",
       "        0.95105465,  0.25382336, -0.67677196, -0.98514626, -0.38778164,\n",
       "        0.56610764,  0.99952016,  0.51397846, -0.44411267, -0.99388865,\n",
       "       -0.62988799,  0.31322878,  0.96836446,  0.73319032, -0.17607562,\n",
       "       -0.92345845, -0.82181784,  0.0353983 ,  0.86006941,  0.89399666,\n",
       "        0.10598751, -0.77946607, -0.94828214, -0.24525199,  0.68326171,\n",
       "        0.98358775,  0.37960774, -0.57338187, -0.99920683])"
      ]
     },
     "execution_count": 86,
     "metadata": {},
     "output_type": "execute_result"
    }
   ],
   "source": [
    "y=np.sin(x)\n",
    "y"
   ]
  },
  {
   "cell_type": "code",
   "execution_count": 87,
   "metadata": {},
   "outputs": [
    {
     "data": {
      "text/plain": [
       "<BarContainer object of 99 artists>"
      ]
     },
     "execution_count": 87,
     "metadata": {},
     "output_type": "execute_result"
    },
    {
     "data": {
      "image/png": "[encoded data removed]",
      "text/plain": [
       "<Figure size 432x288 with 1 Axes>"
      ]
     },
     "metadata": {
      "needs_background": "light"
     },
     "output_type": "display_data"
    }
   ],
   "source": [
    "plt.bar(x,y)"
   ]
  },
  {
   "cell_type": "code",
   "execution_count": 90,
   "metadata": {},
   "outputs": [
    {
     "name": "stdout",
     "output_type": "stream",
     "text": [
      "[ 0.84147098  0.90929743  0.14112001 -0.7568025  -0.95892427 -0.2794155\n",
      "  0.6569866   0.98935825  0.41211849]\n"
     ]
    }
   ],
   "source": [
    "x=np.arange(1,10)\n",
    "\n",
    "y=np.sin(x)\n",
    "print(y) #see here sin1 is gng  upto 0.8..."
   ]
  },
  {
   "cell_type": "code",
   "execution_count": 91,
   "metadata": {},
   "outputs": [
    {
     "data": {
      "text/plain": [
       "<BarContainer object of 9 artists>"
      ]
     },
     "execution_count": 91,
     "metadata": {},
     "output_type": "execute_result"
    },
    {
     "data": {
      "image/png": "[encoded data removed]",
      "text/plain": [
       "<Figure size 432x288 with 1 Axes>"
      ]
     },
     "metadata": {
      "needs_background": "light"
     },
     "output_type": "display_data"
    }
   ],
   "source": [
    "plt.bar(x,y)"
   ]
  },
  {
   "cell_type": "code",
   "execution_count": 92,
   "metadata": {},
   "outputs": [],
   "source": [
    "#histogram --if we want to show any frequency \n",
    "gh=np.random.randint(1,100,1000)"
   ]
  },
  {
   "cell_type": "code",
   "execution_count": 93,
   "metadata": {},
   "outputs": [
    {
     "data": {
      "text/plain": [
       "1000"
      ]
     },
     "execution_count": 93,
     "metadata": {},
     "output_type": "execute_result"
    }
   ],
   "source": [
    "len(gh)"
   ]
  },
  {
   "cell_type": "code",
   "execution_count": 91,
   "metadata": {},
   "outputs": [
    {
     "data": {
      "text/plain": [
       "99"
      ]
     },
     "execution_count": 91,
     "metadata": {},
     "output_type": "execute_result"
    }
   ],
   "source": [
    "len(set(gh))#here set is how many unique numbers in the data"
   ]
  },
  {
   "cell_type": "code",
   "execution_count": 94,
   "metadata": {},
   "outputs": [
    {
     "data": {
      "text/plain": [
       "(array([110., 102., 108., 100.,  86.,  85.,  97., 103., 116.,  93.]),\n",
       " array([ 1. , 10.8, 20.6, 30.4, 40.2, 50. , 59.8, 69.6, 79.4, 89.2, 99. ]),\n",
       " <a list of 10 Patch objects>)"
      ]
     },
     "execution_count": 94,
     "metadata": {},
     "output_type": "execute_result"
    },
    {
     "data": {
      "image/png": "[encoded data removed]",
      "text/plain": [
       "<Figure size 432x288 with 1 Axes>"
      ]
     },
     "metadata": {
      "needs_background": "light"
     },
     "output_type": "display_data"
    }
   ],
   "source": [
    "plt.hist(gh)"
   ]
  },
  {
   "cell_type": "code",
   "execution_count": 93,
   "metadata": {},
   "outputs": [
    {
     "data": {
      "text/plain": [
       "(array([17., 10., 11., 15., 18.,  6., 12.,  5., 13.,  4., 12.,  4., 15.,\n",
       "         8.,  6.,  5.,  8., 10., 12.,  6., 12., 11., 12.,  9., 13.,  8.,\n",
       "         9., 14., 12., 11.,  9., 12.,  3.,  6., 15., 13.,  9., 14., 10.,\n",
       "        13., 13.,  9., 12.,  9.,  7.,  7.,  9., 11., 11., 10.,  7., 13.,\n",
       "         9., 16., 14., 12., 10.,  9.,  7.,  9.,  8.,  9., 11., 14.,  7.,\n",
       "        13.,  9.,  8.,  8., 13.,  8., 14.,  5.,  5., 12., 13.,  5., 10.,\n",
       "        10.,  9.,  9.,  9.,  6.,  9., 14.,  6.,  9.,  9.,  5., 12., 17.,\n",
       "        13.,  8.,  8., 15., 12., 12., 20.]),\n",
       " array([ 1,  2,  3,  4,  5,  6,  7,  8,  9, 10, 11, 12, 13, 14, 15, 16, 17,\n",
       "        18, 19, 20, 21, 22, 23, 24, 25, 26, 27, 28, 29, 30, 31, 32, 33, 34,\n",
       "        35, 36, 37, 38, 39, 40, 41, 42, 43, 44, 45, 46, 47, 48, 49, 50, 51,\n",
       "        52, 53, 54, 55, 56, 57, 58, 59, 60, 61, 62, 63, 64, 65, 66, 67, 68,\n",
       "        69, 70, 71, 72, 73, 74, 75, 76, 77, 78, 79, 80, 81, 82, 83, 84, 85,\n",
       "        86, 87, 88, 89, 90, 91, 92, 93, 94, 95, 96, 97, 98, 99]),\n",
       " <a list of 98 Patch objects>)"
      ]
     },
     "execution_count": 93,
     "metadata": {},
     "output_type": "execute_result"
    },
    {
     "data": {
      "image/png": "[encoded data removed]",
      "text/plain": [
       "<Figure size 432x288 with 1 Axes>"
      ]
     },
     "metadata": {
      "needs_background": "light"
     },
     "output_type": "display_data"
    }
   ],
   "source": [
    "plt.hist(gh,bins=list(set(gh)))"
   ]
  },
  {
   "cell_type": "code",
   "execution_count": 113,
   "metadata": {},
   "outputs": [
    {
     "data": {
      "text/plain": [
       "(array([3., 0., 1., 1., 1., 1., 0., 1., 1.]),\n",
       " array([  0,  50, 100, 150, 200, 250, 300, 350, 400, 450]),\n",
       " <a list of 9 Patch objects>)"
      ]
     },
     "execution_count": 113,
     "metadata": {},
     "output_type": "execute_result"
    },
    {
     "data": {
      "image/png": "[encoded data removed]",
      "text/plain": [
       "<Figure size 432x288 with 1 Axes>"
      ]
     },
     "metadata": {
      "needs_background": "light"
     },
     "output_type": "display_data"
    }
   ],
   "source": [
    "#histogram\n",
    "y=[0,50,100,150,200,250,300,350,400,450]\n",
    "x=[10,30,150,200,250,10,123,780,350,450]\n",
    "plt.hist(x,y)\n"
   ]
  },
  {
   "cell_type": "code",
   "execution_count": null,
   "metadata": {},
   "outputs": [],
   "source": [
    "#pichart\n",
    "#3d plots\n",
    "#density plots"
   ]
  },
  {
   "cell_type": "code",
   "execution_count": 126,
   "metadata": {},
   "outputs": [
    {
     "data": {
      "text/plain": [
       "<mpl_toolkits.mplot3d.art3d.Path3DCollection at 0x256d64be898>"
      ]
     },
     "execution_count": 126,
     "metadata": {},
     "output_type": "execute_result"
    },
    {
     "data": {
      "image/png": "[encoded data removed]",
      "text/plain": [
       "<Figure size 432x288 with 1 Axes>"
      ]
     },
     "metadata": {
      "needs_background": "light"
     },
     "output_type": "display_data"
    }
   ],
   "source": [
    "#3d plot\n",
    "from mpl_toolkits.mplot3d import Axes3D\n",
    "fig=plt.figure()\n",
    "x=fig.add_subplot(111,projection='3d')\n",
    "x=[1,2,3,4,5,6,7]\n",
    "y=[2,3,4,8,9,3,8]\n",
    "z=[1,5,2,9,7,5,4]\n",
    "plt.scatter(x,y,z,c='blue')\n",
    "#plt.show()"
   ]
  },
  {
   "cell_type": "code",
   "execution_count": 127,
   "metadata": {},
   "outputs": [
    {
     "data": {
      "text/html": [
       "<div>\n",
       "<style scoped>\n",
       "    .dataframe tbody tr th:only-of-type {\n",
       "        vertical-align: middle;\n",
       "    }\n",
       "\n",
       "    .dataframe tbody tr th {\n",
       "        vertical-align: top;\n",
       "    }\n",
       "\n",
       "    .dataframe thead th {\n",
       "        text-align: right;\n",
       "    }\n",
       "</style>\n",
       "<table border=\"1\" class=\"dataframe\">\n",
       "  <thead>\n",
       "    <tr style=\"text-align: right;\">\n",
       "      <th></th>\n",
       "      <th>temperature</th>\n",
       "      <th>city</th>\n",
       "      <th>wether</th>\n",
       "    </tr>\n",
       "  </thead>\n",
       "  <tbody>\n",
       "    <tr>\n",
       "      <th>0</th>\n",
       "      <td>311.150</td>\n",
       "      <td>jaipur</td>\n",
       "      <td>Haze</td>\n",
       "    </tr>\n",
       "    <tr>\n",
       "      <th>1</th>\n",
       "      <td>301.850</td>\n",
       "      <td>bangalore</td>\n",
       "      <td>Clouds</td>\n",
       "    </tr>\n",
       "    <tr>\n",
       "      <th>2</th>\n",
       "      <td>306.150</td>\n",
       "      <td>tirupati</td>\n",
       "      <td>Clouds</td>\n",
       "    </tr>\n",
       "    <tr>\n",
       "      <th>3</th>\n",
       "      <td>304.650</td>\n",
       "      <td>mumbai</td>\n",
       "      <td>Smoke</td>\n",
       "    </tr>\n",
       "    <tr>\n",
       "      <th>4</th>\n",
       "      <td>307.150</td>\n",
       "      <td>chennai</td>\n",
       "      <td>Clouds</td>\n",
       "    </tr>\n",
       "    <tr>\n",
       "      <th>5</th>\n",
       "      <td>306.150</td>\n",
       "      <td>chittoor</td>\n",
       "      <td>Clouds</td>\n",
       "    </tr>\n",
       "    <tr>\n",
       "      <th>6</th>\n",
       "      <td>310.929</td>\n",
       "      <td>nellore</td>\n",
       "      <td>Clouds</td>\n",
       "    </tr>\n",
       "    <tr>\n",
       "      <th>7</th>\n",
       "      <td>303.150</td>\n",
       "      <td>guntur</td>\n",
       "      <td>Clouds</td>\n",
       "    </tr>\n",
       "    <tr>\n",
       "      <th>8</th>\n",
       "      <td>301.129</td>\n",
       "      <td>pune</td>\n",
       "      <td>Clear</td>\n",
       "    </tr>\n",
       "    <tr>\n",
       "      <th>9</th>\n",
       "      <td>306.150</td>\n",
       "      <td>kolkata</td>\n",
       "      <td>Haze</td>\n",
       "    </tr>\n",
       "  </tbody>\n",
       "</table>\n",
       "</div>"
      ],
      "text/plain": [
       "   temperature       city  wether\n",
       "0      311.150     jaipur    Haze\n",
       "1      301.850  bangalore  Clouds\n",
       "2      306.150   tirupati  Clouds\n",
       "3      304.650     mumbai   Smoke\n",
       "4      307.150    chennai  Clouds\n",
       "5      306.150   chittoor  Clouds\n",
       "6      310.929    nellore  Clouds\n",
       "7      303.150     guntur  Clouds\n",
       "8      301.129       pune   Clear\n",
       "9      306.150    kolkata    Haze"
      ]
     },
     "execution_count": 127,
     "metadata": {},
     "output_type": "execute_result"
    }
   ],
   "source": [
    "import pandas as pd\n",
    "dt=pd.DataFrame({\"temperature\":temp,\"city\":city,\"wether\":weather})\n",
    "dt"
   ]
  },
  {
   "cell_type": "code",
   "execution_count": 128,
   "metadata": {},
   "outputs": [
    {
     "data": {
      "text/plain": [
       "(array([0., 1., 2., 3., 4., 5., 6., 7.]),\n",
       " <a list of 8 Text yticklabel objects>)"
      ]
     },
     "execution_count": 128,
     "metadata": {},
     "output_type": "execute_result"
    },
    {
     "data": {
      "image/png": "[encoded data removed]",
      "text/plain": [
       "<Figure size 432x288 with 1 Axes>"
      ]
     },
     "metadata": {
      "needs_background": "light"
     },
     "output_type": "display_data"
    }
   ],
   "source": [
    "plt.hist(weather,color='green')\n",
    "plt.title('weather count')\n",
    "plt.xlabel('type of weather')\n",
    "plt.ylabel('count of cities')\n",
    "plt.xticks(rotation=60)#x axis names rotation\n",
    "plt.yticks(rotation=20)"
   ]
  },
  {
   "cell_type": "code",
   "execution_count": 129,
   "metadata": {},
   "outputs": [
    {
     "data": {
      "text/html": [
       "<div>\n",
       "<style scoped>\n",
       "    .dataframe tbody tr th:only-of-type {\n",
       "        vertical-align: middle;\n",
       "    }\n",
       "\n",
       "    .dataframe tbody tr th {\n",
       "        vertical-align: top;\n",
       "    }\n",
       "\n",
       "    .dataframe thead th {\n",
       "        text-align: right;\n",
       "    }\n",
       "</style>\n",
       "<table border=\"1\" class=\"dataframe\">\n",
       "  <thead>\n",
       "    <tr style=\"text-align: right;\">\n",
       "      <th></th>\n",
       "      <th>temperature</th>\n",
       "      <th>city</th>\n",
       "      <th>wether</th>\n",
       "    </tr>\n",
       "  </thead>\n",
       "  <tbody>\n",
       "    <tr>\n",
       "      <th>0</th>\n",
       "      <td>311.150</td>\n",
       "      <td>jaipur</td>\n",
       "      <td>Haze</td>\n",
       "    </tr>\n",
       "    <tr>\n",
       "      <th>1</th>\n",
       "      <td>301.850</td>\n",
       "      <td>bangalore</td>\n",
       "      <td>Clouds</td>\n",
       "    </tr>\n",
       "    <tr>\n",
       "      <th>2</th>\n",
       "      <td>306.150</td>\n",
       "      <td>tirupati</td>\n",
       "      <td>Clouds</td>\n",
       "    </tr>\n",
       "    <tr>\n",
       "      <th>3</th>\n",
       "      <td>304.650</td>\n",
       "      <td>mumbai</td>\n",
       "      <td>Smoke</td>\n",
       "    </tr>\n",
       "    <tr>\n",
       "      <th>4</th>\n",
       "      <td>307.150</td>\n",
       "      <td>chennai</td>\n",
       "      <td>Clouds</td>\n",
       "    </tr>\n",
       "    <tr>\n",
       "      <th>5</th>\n",
       "      <td>306.150</td>\n",
       "      <td>chittoor</td>\n",
       "      <td>Clouds</td>\n",
       "    </tr>\n",
       "    <tr>\n",
       "      <th>6</th>\n",
       "      <td>310.929</td>\n",
       "      <td>nellore</td>\n",
       "      <td>Clouds</td>\n",
       "    </tr>\n",
       "    <tr>\n",
       "      <th>7</th>\n",
       "      <td>303.150</td>\n",
       "      <td>guntur</td>\n",
       "      <td>Clouds</td>\n",
       "    </tr>\n",
       "    <tr>\n",
       "      <th>8</th>\n",
       "      <td>301.129</td>\n",
       "      <td>pune</td>\n",
       "      <td>Clear</td>\n",
       "    </tr>\n",
       "    <tr>\n",
       "      <th>9</th>\n",
       "      <td>306.150</td>\n",
       "      <td>kolkata</td>\n",
       "      <td>Haze</td>\n",
       "    </tr>\n",
       "  </tbody>\n",
       "</table>\n",
       "</div>"
      ],
      "text/plain": [
       "   temperature       city  wether\n",
       "0      311.150     jaipur    Haze\n",
       "1      301.850  bangalore  Clouds\n",
       "2      306.150   tirupati  Clouds\n",
       "3      304.650     mumbai   Smoke\n",
       "4      307.150    chennai  Clouds\n",
       "5      306.150   chittoor  Clouds\n",
       "6      310.929    nellore  Clouds\n",
       "7      303.150     guntur  Clouds\n",
       "8      301.129       pune   Clear\n",
       "9      306.150    kolkata    Haze"
      ]
     },
     "execution_count": 129,
     "metadata": {},
     "output_type": "execute_result"
    }
   ],
   "source": [
    "import pandas as pd\n",
    "dt=pd.DataFrame({\"temperature\":temp,\"city\":city,\"wether\":weather})\n",
    "dt"
   ]
  },
  {
   "cell_type": "code",
   "execution_count": 130,
   "metadata": {},
   "outputs": [
    {
     "data": {
      "text/plain": [
       "Clouds    6\n",
       "Haze      2\n",
       "Smoke     1\n",
       "Clear     1\n",
       "Name: wether, dtype: int64"
      ]
     },
     "execution_count": 130,
     "metadata": {},
     "output_type": "execute_result"
    }
   ],
   "source": [
    "#pi chart\n",
    "\n",
    "\n",
    "dt.wether.value_counts()"
   ]
  },
  {
   "cell_type": "code",
   "execution_count": 131,
   "metadata": {},
   "outputs": [
    {
     "data": {
      "text/plain": [
       "Index(['Clouds', 'Haze', 'Smoke', 'Clear'], dtype='object')"
      ]
     },
     "execution_count": 131,
     "metadata": {},
     "output_type": "execute_result"
    }
   ],
   "source": [
    "dt.wether.value_counts().index"
   ]
  },
  {
   "cell_type": "code",
   "execution_count": 132,
   "metadata": {},
   "outputs": [
    {
     "data": {
      "text/plain": [
       "([<matplotlib.patches.Wedge at 0x256d5ef65c0>,\n",
       "  <matplotlib.patches.Wedge at 0x256d5ef6cf8>,\n",
       "  <matplotlib.patches.Wedge at 0x256d5ec1438>,\n",
       "  <matplotlib.patches.Wedge at 0x256d5ec1b38>],\n",
       " [Text(-0.33991877217145816, 1.046162142464278, 'Clouds'),\n",
       "  Text(-0.33991852729952715, -1.04616222202798, 'Haze'),\n",
       "  Text(0.6465639316640834, -0.8899185818214397, 'Smoke'),\n",
       "  Text(1.0461622299843472, -0.3399185028123333, 'Clear')],\n",
       " [Text(-0.18541023936624987, 0.5706338958896061, '60.0%'),\n",
       "  Text(-0.18541010579974207, -0.5706339392879891, '20.0%'),\n",
       "  Text(0.3526712354531364, -0.48541013553896706, '10.0%'),\n",
       "  Text(0.5706339436278256, -0.18541009244309087, '10.0%')])"
      ]
     },
     "execution_count": 132,
     "metadata": {},
     "output_type": "execute_result"
    },
    {
     "data": {
      "image/png": "[encoded data removed]",
      "text/plain": [
       "<Figure size 432x288 with 1 Axes>"
      ]
     },
     "metadata": {},
     "output_type": "display_data"
    }
   ],
   "source": [
    "plt.pie(dt.wether.value_counts(),labels=dt.wether.value_counts().index,autopct=\"%1.1f%%\")"
   ]
  },
  {
   "cell_type": "code",
   "execution_count": 134,
   "metadata": {},
   "outputs": [
    {
     "data": {
      "text/plain": [
       "([<matplotlib.patches.Wedge at 0x256d61dd438>,\n",
       "  <matplotlib.patches.Wedge at 0x256d61ddb70>,\n",
       "  <matplotlib.patches.Wedge at 0x256d61eb2b0>,\n",
       "  <matplotlib.patches.Wedge at 0x256d61eb9b0>,\n",
       "  <matplotlib.patches.Wedge at 0x256d61ec0f0>],\n",
       " [Text(1.0647435716013092, 0.2762627856474485, 'hemanth'),\n",
       "  Text(0.5835031199737116, 0.9324827660503676, 'kumar'),\n",
       "  Text(-0.8923743363548202, 0.643170307006857, 'bhanu'),\n",
       "  Text(-0.7989922745317414, -0.7560498298648012, 'suresh'),\n",
       "  Text(0.592941879106506, -0.9265095401568436, 'mahesh')],\n",
       " [Text(0.5807692208734413, 0.15068879217133554, '8.08'),\n",
       "  Text(0.31827442907656994, 0.5086269633002004, '16.04'),\n",
       "  Text(-0.48674963801172005, 0.35082016745828554, '31.88'),\n",
       "  Text(-0.4358139679264043, -0.4123908162898915, '12.12'),\n",
       "  Text(0.3234228431490032, -0.5053688400855509, '31.88')])"
      ]
     },
     "execution_count": 134,
     "metadata": {},
     "output_type": "execute_result"
    },
    {
     "data": {
      "image/png": "[encoded data removed]",
      "text/plain": [
       "<Figure size 432x288 with 1 Axes>"
      ]
     },
     "metadata": {},
     "output_type": "display_data"
    }
   ],
   "source": [
    "#pie chart \n",
    "\n",
    "label=\"hemanth\",\"kumar\",\"bhanu\",\"suresh\",\"mahesh\"\n",
    "percentage=[20,39.7,78.9,30,78.9]\n",
    "plt.pie(percentage,labels=label,autopct=\"%1.2f\") # autopct "
   ]
  },
  {
   "cell_type": "code",
   "execution_count": 137,
   "metadata": {},
   "outputs": [
    {
     "data": {
      "text/html": [
       "<div>\n",
       "<style scoped>\n",
       "    .dataframe tbody tr th:only-of-type {\n",
       "        vertical-align: middle;\n",
       "    }\n",
       "\n",
       "    .dataframe tbody tr th {\n",
       "        vertical-align: top;\n",
       "    }\n",
       "\n",
       "    .dataframe thead th {\n",
       "        text-align: right;\n",
       "    }\n",
       "</style>\n",
       "<table border=\"1\" class=\"dataframe\">\n",
       "  <thead>\n",
       "    <tr style=\"text-align: right;\">\n",
       "      <th></th>\n",
       "      <th>temperature</th>\n",
       "      <th>city</th>\n",
       "      <th>wether</th>\n",
       "    </tr>\n",
       "  </thead>\n",
       "  <tbody>\n",
       "    <tr>\n",
       "      <th>0</th>\n",
       "      <td>311.150</td>\n",
       "      <td>jaipur</td>\n",
       "      <td>Haze</td>\n",
       "    </tr>\n",
       "    <tr>\n",
       "      <th>1</th>\n",
       "      <td>301.850</td>\n",
       "      <td>bangalore</td>\n",
       "      <td>Clouds</td>\n",
       "    </tr>\n",
       "    <tr>\n",
       "      <th>2</th>\n",
       "      <td>306.150</td>\n",
       "      <td>tirupati</td>\n",
       "      <td>Clouds</td>\n",
       "    </tr>\n",
       "    <tr>\n",
       "      <th>3</th>\n",
       "      <td>304.650</td>\n",
       "      <td>mumbai</td>\n",
       "      <td>Smoke</td>\n",
       "    </tr>\n",
       "    <tr>\n",
       "      <th>4</th>\n",
       "      <td>307.150</td>\n",
       "      <td>chennai</td>\n",
       "      <td>Clouds</td>\n",
       "    </tr>\n",
       "    <tr>\n",
       "      <th>5</th>\n",
       "      <td>306.150</td>\n",
       "      <td>chittoor</td>\n",
       "      <td>Clouds</td>\n",
       "    </tr>\n",
       "    <tr>\n",
       "      <th>6</th>\n",
       "      <td>310.929</td>\n",
       "      <td>nellore</td>\n",
       "      <td>Clouds</td>\n",
       "    </tr>\n",
       "    <tr>\n",
       "      <th>7</th>\n",
       "      <td>303.150</td>\n",
       "      <td>guntur</td>\n",
       "      <td>Clouds</td>\n",
       "    </tr>\n",
       "    <tr>\n",
       "      <th>8</th>\n",
       "      <td>301.129</td>\n",
       "      <td>pune</td>\n",
       "      <td>Clear</td>\n",
       "    </tr>\n",
       "    <tr>\n",
       "      <th>9</th>\n",
       "      <td>306.150</td>\n",
       "      <td>kolkata</td>\n",
       "      <td>Haze</td>\n",
       "    </tr>\n",
       "  </tbody>\n",
       "</table>\n",
       "</div>"
      ],
      "text/plain": [
       "   temperature       city  wether\n",
       "0      311.150     jaipur    Haze\n",
       "1      301.850  bangalore  Clouds\n",
       "2      306.150   tirupati  Clouds\n",
       "3      304.650     mumbai   Smoke\n",
       "4      307.150    chennai  Clouds\n",
       "5      306.150   chittoor  Clouds\n",
       "6      310.929    nellore  Clouds\n",
       "7      303.150     guntur  Clouds\n",
       "8      301.129       pune   Clear\n",
       "9      306.150    kolkata    Haze"
      ]
     },
     "execution_count": 137,
     "metadata": {},
     "output_type": "execute_result"
    }
   ],
   "source": [
    "import pandas as pd\n",
    "dt=pd.DataFrame({\"temperature\":temp,\"city\":city,\"wether\":weather})\n",
    "dt"
   ]
  },
  {
   "cell_type": "code",
   "execution_count": 136,
   "metadata": {},
   "outputs": [
    {
     "data": {
      "text/plain": [
       "<matplotlib.collections.PathCollection at 0x256d6404438>"
      ]
     },
     "execution_count": 136,
     "metadata": {},
     "output_type": "execute_result"
    },
    {
     "data": {
      "image/png": "[encoded data removed]",
      "text/plain": [
       "<Figure size 432x288 with 1 Axes>"
      ]
     },
     "metadata": {
      "needs_background": "light"
     },
     "output_type": "display_data"
    }
   ],
   "source": [
    "\n",
    "\n",
    "plt.scatter(x=temp,y=city,marker='+',c=\"red\")"
   ]
  },
  {
   "cell_type": "code",
   "execution_count": null,
   "metadata": {},
   "outputs": [],
   "source": []
  }
 ],
 "metadata": {
  "kernelspec": {
   "display_name": "Python 3",
   "language": "python",
   "name": "python3"
  },
  "language_info": {
   "codemirror_mode": {
    "name": "ipython",
    "version": 3
   },
   "file_extension": ".py",
   "mimetype": "text/x-python",
   "name": "python",
   "nbconvert_exporter": "python",
   "pygments_lexer": "ipython3",
   "version": "3.7.3"
  }
 },
 "nbformat": 4,
 "nbformat_minor": 2
}
